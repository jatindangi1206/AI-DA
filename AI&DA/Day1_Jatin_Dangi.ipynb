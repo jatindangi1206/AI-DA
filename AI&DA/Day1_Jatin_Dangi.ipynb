{
  "nbformat": 4,
  "nbformat_minor": 0,
  "metadata": {
    "colab": {
      "provenance": []
    },
    "kernelspec": {
      "name": "python3",
      "display_name": "Python 3"
    },
    "language_info": {
      "name": "python"
    }
  },
  "cells": [
    {
      "cell_type": "code",
      "execution_count": 14,
      "metadata": {
        "colab": {
          "base_uri": "https://localhost:8080/"
        },
        "id": "WiQjUaxOmTbT",
        "outputId": "4c34cb7c-1462-441b-91b2-640822fc212e"
      },
      "outputs": [
        {
          "output_type": "execute_result",
          "data": {
            "text/plain": [
              "2"
            ]
          },
          "metadata": {},
          "execution_count": 14
        }
      ],
      "source": [
        "1+1"
      ]
    },
    {
      "cell_type": "code",
      "source": [
        "1+1\n",
        "# Addition"
      ],
      "metadata": {
        "colab": {
          "base_uri": "https://localhost:8080/"
        },
        "id": "DmRfFk3Rm3jp",
        "outputId": "b0122a82-6a23-4c60-e82c-52f3ccaa6d5f"
      },
      "execution_count": 15,
      "outputs": [
        {
          "output_type": "execute_result",
          "data": {
            "text/plain": [
              "2"
            ]
          },
          "metadata": {},
          "execution_count": 15
        }
      ]
    },
    {
      "cell_type": "code",
      "source": [
        "5-3\n",
        "# subtraction"
      ],
      "metadata": {
        "colab": {
          "base_uri": "https://localhost:8080/"
        },
        "id": "OjqnjoOMnoe7",
        "outputId": "2ae60df9-2634-48ad-c064-5df99198b0e7"
      },
      "execution_count": 16,
      "outputs": [
        {
          "output_type": "execute_result",
          "data": {
            "text/plain": [
              "2"
            ]
          },
          "metadata": {},
          "execution_count": 16
        }
      ]
    },
    {
      "cell_type": "code",
      "source": [
        "4*5\n",
        "# multiplication"
      ],
      "metadata": {
        "colab": {
          "base_uri": "https://localhost:8080/"
        },
        "id": "Yy6R0R0zn7oS",
        "outputId": "31c99006-e2ee-4597-89dd-c1dfe87c307b"
      },
      "execution_count": 17,
      "outputs": [
        {
          "output_type": "execute_result",
          "data": {
            "text/plain": [
              "20"
            ]
          },
          "metadata": {},
          "execution_count": 17
        }
      ]
    },
    {
      "cell_type": "code",
      "source": [
        "3/2\n",
        "# divide"
      ],
      "metadata": {
        "colab": {
          "base_uri": "https://localhost:8080/"
        },
        "id": "EokbppMDn8T5",
        "outputId": "29a9fabf-9f7a-4ac1-fcf7-65006b1ee47d"
      },
      "execution_count": 18,
      "outputs": [
        {
          "output_type": "execute_result",
          "data": {
            "text/plain": [
              "1.5"
            ]
          },
          "metadata": {},
          "execution_count": 18
        }
      ]
    },
    {
      "cell_type": "code",
      "source": [
        "# remainder\n",
        "11%2"
      ],
      "metadata": {
        "colab": {
          "base_uri": "https://localhost:8080/"
        },
        "id": "Q0TzXxoBoQ-3",
        "outputId": "491ea947-4955-4534-a683-b3b99b508b85"
      },
      "execution_count": 19,
      "outputs": [
        {
          "output_type": "execute_result",
          "data": {
            "text/plain": [
              "1"
            ]
          },
          "metadata": {},
          "execution_count": 19
        }
      ]
    },
    {
      "cell_type": "code",
      "source": [
        "# quotient\n",
        "11//2"
      ],
      "metadata": {
        "colab": {
          "base_uri": "https://localhost:8080/"
        },
        "id": "My0eDirZoTB0",
        "outputId": "ea0706ef-e6f4-4efd-dc0e-7de96d63a044"
      },
      "execution_count": 20,
      "outputs": [
        {
          "output_type": "execute_result",
          "data": {
            "text/plain": [
              "5"
            ]
          },
          "metadata": {},
          "execution_count": 20
        }
      ]
    },
    {
      "cell_type": "code",
      "source": [
        "# power\n",
        "3**2"
      ],
      "metadata": {
        "colab": {
          "base_uri": "https://localhost:8080/"
        },
        "id": "koybgP1AopR1",
        "outputId": "17b87271-7af8-453a-cf6c-6dd9b6f45387"
      },
      "execution_count": 21,
      "outputs": [
        {
          "output_type": "execute_result",
          "data": {
            "text/plain": [
              "9"
            ]
          },
          "metadata": {},
          "execution_count": 21
        }
      ]
    },
    {
      "cell_type": "code",
      "source": [
        "# greater than \n",
        "2>3"
      ],
      "metadata": {
        "colab": {
          "base_uri": "https://localhost:8080/"
        },
        "id": "jJF0wTkXoz99",
        "outputId": "364e70a9-5591-4ff5-8310-4d6d32926bfa"
      },
      "execution_count": 22,
      "outputs": [
        {
          "output_type": "execute_result",
          "data": {
            "text/plain": [
              "False"
            ]
          },
          "metadata": {},
          "execution_count": 22
        }
      ]
    },
    {
      "cell_type": "code",
      "source": [
        "# compare 3 with itself\n",
        "# X = 3 is assignment \n",
        "3==3"
      ],
      "metadata": {
        "colab": {
          "base_uri": "https://localhost:8080/"
        },
        "id": "Jl6ekvbro_1d",
        "outputId": "6bccab11-1312-4838-f4cd-c45c2bab9994"
      },
      "execution_count": 23,
      "outputs": [
        {
          "output_type": "execute_result",
          "data": {
            "text/plain": [
              "True"
            ]
          },
          "metadata": {},
          "execution_count": 23
        }
      ]
    },
    {
      "cell_type": "code",
      "source": [
        "# list \n",
        "# python looks at the brackets\n",
        "x = [1,2,3,4]\n"
      ],
      "metadata": {
        "id": "GSYeZvI_pH0Q"
      },
      "execution_count": 24,
      "outputs": []
    },
    {
      "cell_type": "code",
      "source": [
        "# strings \n",
        "# python looks at the inverted commas and say that this is a STRING\n",
        "y = [ \"jatin\", \"Tom\", \"Tim\", \"Ram\" ]\n",
        "\n",
        "# z = 'It's a bad day'\n",
        "Z = \"it's a good day\""
      ],
      "metadata": {
        "id": "MKK2gVyksjdF"
      },
      "execution_count": 25,
      "outputs": []
    },
    {
      "cell_type": "code",
      "source": [
        "# Mixed list \n",
        "ml = [\"Ram\", \"Shyam\", \"Tom\",1,2,3]\n",
        "\n",
        "# how many elements are there in the list Y?\n",
        "\n",
        "len(y)"
      ],
      "metadata": {
        "colab": {
          "base_uri": "https://localhost:8080/"
        },
        "id": "sAqRDj65tPfg",
        "outputId": "c6534e3b-597a-4040-eba4-179bf07609da"
      },
      "execution_count": 26,
      "outputs": [
        {
          "output_type": "execute_result",
          "data": {
            "text/plain": [
              "4"
            ]
          },
          "metadata": {},
          "execution_count": 26
        }
      ]
    },
    {
      "cell_type": "code",
      "source": [
        "# Ram = 0 , Shyam = 1, Tom = 2,1 = 3,2\n",
        "\n",
        "\n",
        "ml[1] # This is index so to fond the locaton always use the square bracket."
      ],
      "metadata": {
        "colab": {
          "base_uri": "https://localhost:8080/",
          "height": 35
        },
        "id": "VpLskU-gtvMe",
        "outputId": "fe8a8f9f-8b65-45d6-e4db-740f34bb2133"
      },
      "execution_count": 27,
      "outputs": [
        {
          "output_type": "execute_result",
          "data": {
            "text/plain": [
              "'Shyam'"
            ],
            "application/vnd.google.colaboratory.intrinsic+json": {
              "type": "string"
            }
          },
          "metadata": {},
          "execution_count": 27
        }
      ]
    },
    {
      "cell_type": "code",
      "source": [
        "ml[0:2] # to find the index     ----> starting : ending - 1\n",
        "\n"
      ],
      "metadata": {
        "colab": {
          "base_uri": "https://localhost:8080/"
        },
        "id": "BCrGoEPDujZm",
        "outputId": "ed892fb2-78a2-4601-894d-6f38fec98d15"
      },
      "execution_count": 28,
      "outputs": [
        {
          "output_type": "execute_result",
          "data": {
            "text/plain": [
              "['Ram', 'Shyam']"
            ]
          },
          "metadata": {},
          "execution_count": 28
        }
      ]
    },
    {
      "cell_type": "code",
      "source": [
        "# print evertihing from shyam to end \n",
        "ml[1:]"
      ],
      "metadata": {
        "colab": {
          "base_uri": "https://localhost:8080/"
        },
        "id": "6pnDii3lvY75",
        "outputId": "6d99a6e7-bdff-4e1a-e134-541223994796"
      },
      "execution_count": 30,
      "outputs": [
        {
          "output_type": "execute_result",
          "data": {
            "text/plain": [
              "['Shyam', 'Tom', 1, 2, 3]"
            ]
          },
          "metadata": {},
          "execution_count": 30
        }
      ]
    },
    {
      "cell_type": "code",
      "source": [
        "# till something \n",
        "ml[:3]\n",
        "ml[1].upper()\n"
      ],
      "metadata": {
        "colab": {
          "base_uri": "https://localhost:8080/",
          "height": 35
        },
        "id": "yq79xVgevwbj",
        "outputId": "f6a0fcf7-da1c-4426-ae84-d32c246bf828"
      },
      "execution_count": 37,
      "outputs": [
        {
          "output_type": "execute_result",
          "data": {
            "text/plain": [
              "'SHYAM'"
            ],
            "application/vnd.google.colaboratory.intrinsic+json": {
              "type": "string"
            }
          },
          "metadata": {},
          "execution_count": 37
        }
      ]
    },
    {
      "cell_type": "code",
      "source": [
        "\n",
        "\n",
        "\n",
        "\n",
        "# Tuple \n",
        "# it is a circular bracket \n",
        "t1 = (1,2,3, \"shyam\", \"Ram\", \"shyam\")\n",
        "t1.index(\"shyam\")\n",
        "t1.count(\"shyam\")"
      ],
      "metadata": {
        "colab": {
          "base_uri": "https://localhost:8080/"
        },
        "id": "-qgkhM-QwBFi",
        "outputId": "964d8a30-70e3-4e2b-e34b-4d29dce64561"
      },
      "execution_count": 36,
      "outputs": [
        {
          "output_type": "execute_result",
          "data": {
            "text/plain": [
              "2"
            ]
          },
          "metadata": {},
          "execution_count": 36
        }
      ]
    },
    {
      "cell_type": "code",
      "source": [
        "ml = [\"Ram\",\"Shyam\",\"Tom\",1,2,3]\n",
        "print(ml[1].lower())  # print command strips the objects type from the object\n",
        "# makes life easy \n",
        "\n",
        "\n",
        "\n",
        "# whenever you use print command function loose the object type \n"
      ],
      "metadata": {
        "colab": {
          "base_uri": "https://localhost:8080/"
        },
        "id": "DCVYuXUvxe5Z",
        "outputId": "8d8b9130-ed7b-430f-a85b-f39ed5a9bc51"
      },
      "execution_count": 38,
      "outputs": [
        {
          "output_type": "stream",
          "name": "stdout",
          "text": [
            "shyam\n"
          ]
        }
      ]
    },
    {
      "cell_type": "code",
      "source": [
        "1+1\n",
        "#print(1)+print(1)"
      ],
      "metadata": {
        "colab": {
          "base_uri": "https://localhost:8080/"
        },
        "id": "TocUHNS0yf-g",
        "outputId": "f5af51a4-f937-42de-c3f2-b1e956a1b260"
      },
      "execution_count": 44,
      "outputs": [
        {
          "output_type": "execute_result",
          "data": {
            "text/plain": [
              "2"
            ]
          },
          "metadata": {},
          "execution_count": 44
        }
      ]
    },
    {
      "cell_type": "code",
      "source": [
        "# Dictonary \n",
        "dict1 =  {\"k1\":\" Hello Ashoka - Name Tag\"}\n",
        "dict1[\"k1\"]"
      ],
      "metadata": {
        "colab": {
          "base_uri": "https://localhost:8080/",
          "height": 35
        },
        "id": "tCjsx8nuy4Am",
        "outputId": "4f312d8a-0be7-4d66-d75e-4f958d915f34"
      },
      "execution_count": 40,
      "outputs": [
        {
          "output_type": "execute_result",
          "data": {
            "text/plain": [
              "' Hello Ashoka - Name Tag'"
            ],
            "application/vnd.google.colaboratory.intrinsic+json": {
              "type": "string"
            }
          },
          "metadata": {},
          "execution_count": 40
        }
      ]
    },
    {
      "cell_type": "code",
      "source": [
        "# Dictonary \n",
        "dict1 =  {\"k1\":\" Hello Ashoka - Name Tag\" , \"k2\":[\"Diamond\", \"Gold\", \"Silver\"]}\n",
        "dict1[\"k1\"]\n",
        "dict1[\"k2\"][0]"
      ],
      "metadata": {
        "colab": {
          "base_uri": "https://localhost:8080/",
          "height": 35
        },
        "id": "scD7gB_Oz91Z",
        "outputId": "03e7f36d-1dcd-46c0-bc6b-7f330de88388"
      },
      "execution_count": 42,
      "outputs": [
        {
          "output_type": "execute_result",
          "data": {
            "text/plain": [
              "'Diamond'"
            ],
            "application/vnd.google.colaboratory.intrinsic+json": {
              "type": "string"
            }
          },
          "metadata": {},
          "execution_count": 42
        }
      ]
    },
    {
      "cell_type": "code",
      "source": [],
      "metadata": {
        "id": "jehF0TEW0bhw"
      },
      "execution_count": null,
      "outputs": []
    },
    {
      "cell_type": "code",
      "source": [
        "# Dictonary \n",
        "dict1 =  {\"k1\":\" Hello Ashoka - Name Tag\" , \"k2\":[\"Diamond\", \"Gold\", \"Silver\"]}\n",
        "dict1[\"k1\"] # indexing here does not work even though we are using square brackets\n",
        "# Dictonary works on mapping \n",
        "# For a dictonary we have to use curly brackets \n",
        "dict1[\"k2\"][0].upper()"
      ],
      "metadata": {
        "colab": {
          "base_uri": "https://localhost:8080/",
          "height": 35
        },
        "outputId": "d96d8525-e5b8-4226-bfac-58a29fa21c60",
        "id": "e_tvR-AX0pg7"
      },
      "execution_count": 43,
      "outputs": [
        {
          "output_type": "execute_result",
          "data": {
            "text/plain": [
              "'DIAMOND'"
            ],
            "application/vnd.google.colaboratory.intrinsic+json": {
              "type": "string"
            }
          },
          "metadata": {},
          "execution_count": 43
        }
      ]
    },
    {
      "cell_type": "code",
      "source": [
        "\n",
        "\n",
        "\n",
        "\n",
        "# Numerical Python \n",
        "\n",
        "import numpy as np # import the libary called numpy which stands for numerical python \n",
        "\n",
        "x = np.linspace(0,10)  # python sees this as ([]) - numpy array\n",
        "x**2\n",
        "x**3"
      ],
      "metadata": {
        "colab": {
          "base_uri": "https://localhost:8080/"
        },
        "id": "waU9VP2s0sa1",
        "outputId": "efdb4281-0b18-43c9-d08b-35e5730abc9d"
      },
      "execution_count": 50,
      "outputs": [
        {
          "output_type": "execute_result",
          "data": {
            "text/plain": [
              "array([0.00000000e+00, 8.49985975e-03, 6.79988780e-02, 2.29496213e-01,\n",
              "       5.43991024e-01, 1.06248247e+00, 1.83596971e+00, 2.91545190e+00,\n",
              "       4.35192819e+00, 6.19639776e+00, 8.49985975e+00, 1.13133133e+01,\n",
              "       1.46877577e+01, 1.86741919e+01, 2.33236152e+01, 2.86870267e+01,\n",
              "       3.48154255e+01, 4.17598110e+01, 4.95711821e+01, 5.83005380e+01,\n",
              "       6.79988780e+01, 7.87172012e+01, 9.05065066e+01, 1.03417794e+02,\n",
              "       1.17502061e+02, 1.32810309e+02, 1.49393535e+02, 1.67302740e+02,\n",
              "       1.86588921e+02, 2.07303079e+02, 2.29496213e+02, 2.53219322e+02,\n",
              "       2.78523404e+02, 3.05459460e+02, 3.34078488e+02, 3.64431487e+02,\n",
              "       3.96569457e+02, 4.30543396e+02, 4.66404304e+02, 5.04203181e+02,\n",
              "       5.43991024e+02, 5.85818834e+02, 6.29737609e+02, 6.75798349e+02,\n",
              "       7.24052053e+02, 7.74549720e+02, 8.27342349e+02, 8.82480939e+02,\n",
              "       9.40016490e+02, 1.00000000e+03])"
            ]
          },
          "metadata": {},
          "execution_count": 50
        }
      ]
    },
    {
      "cell_type": "code",
      "source": [
        "# Numerical Python \n",
        "\n",
        "import numpy as np # import the libary called numpy which stands for numerical python \n",
        "\n",
        "x = np.linspace(0,10)  # python sees this as ([]) - numpy array\n",
        "print(x**2)\n",
        "print(\"\\n\")\n",
        "print(x**3)"
      ],
      "metadata": {
        "colab": {
          "base_uri": "https://localhost:8080/"
        },
        "id": "oZDAPdZt2TI4",
        "outputId": "adaefee2-9abd-4991-eefb-452fda3aacdb"
      },
      "execution_count": 53,
      "outputs": [
        {
          "output_type": "stream",
          "name": "stdout",
          "text": [
            "[0.00000000e+00 4.16493128e-02 1.66597251e-01 3.74843815e-01\n",
            " 6.66389005e-01 1.04123282e+00 1.49937526e+00 2.04081633e+00\n",
            " 2.66555602e+00 3.37359434e+00 4.16493128e+00 5.03956685e+00\n",
            " 5.99750104e+00 7.03873386e+00 8.16326531e+00 9.37109538e+00\n",
            " 1.06622241e+01 1.20366514e+01 1.34943773e+01 1.50354019e+01\n",
            " 1.66597251e+01 1.83673469e+01 2.01582674e+01 2.20324865e+01\n",
            " 2.39900042e+01 2.60308205e+01 2.81549354e+01 3.03623490e+01\n",
            " 3.26530612e+01 3.50270721e+01 3.74843815e+01 4.00249896e+01\n",
            " 4.26488963e+01 4.53561016e+01 4.81466056e+01 5.10204082e+01\n",
            " 5.39775094e+01 5.70179092e+01 6.01416077e+01 6.33486047e+01\n",
            " 6.66389005e+01 7.00124948e+01 7.34693878e+01 7.70095793e+01\n",
            " 8.06330696e+01 8.43398584e+01 8.81299459e+01 9.20033319e+01\n",
            " 9.59600167e+01 1.00000000e+02]\n",
            "\n",
            "\n",
            "[0.00000000e+00 8.49985975e-03 6.79988780e-02 2.29496213e-01\n",
            " 5.43991024e-01 1.06248247e+00 1.83596971e+00 2.91545190e+00\n",
            " 4.35192819e+00 6.19639776e+00 8.49985975e+00 1.13133133e+01\n",
            " 1.46877577e+01 1.86741919e+01 2.33236152e+01 2.86870267e+01\n",
            " 3.48154255e+01 4.17598110e+01 4.95711821e+01 5.83005380e+01\n",
            " 6.79988780e+01 7.87172012e+01 9.05065066e+01 1.03417794e+02\n",
            " 1.17502061e+02 1.32810309e+02 1.49393535e+02 1.67302740e+02\n",
            " 1.86588921e+02 2.07303079e+02 2.29496213e+02 2.53219322e+02\n",
            " 2.78523404e+02 3.05459460e+02 3.34078488e+02 3.64431487e+02\n",
            " 3.96569457e+02 4.30543396e+02 4.66404304e+02 5.04203181e+02\n",
            " 5.43991024e+02 5.85818834e+02 6.29737609e+02 6.75798349e+02\n",
            " 7.24052053e+02 7.74549720e+02 8.27342349e+02 8.82480939e+02\n",
            " 9.40016490e+02 1.00000000e+03]\n"
          ]
        }
      ]
    },
    {
      "cell_type": "code",
      "source": [
        "# Plotting \n",
        "\n",
        "import matplotlib.pyplot as plt\n",
        "# matlat plot \n",
        "y=x**3\n",
        "plt.plot(x,y)\n",
        "\n",
        "\n",
        "plt.title(\"Day 1 at Ashoka\")\n",
        "plt.xlabel(\"This is X\")\n",
        "plt.ylabel(\"This is Y\");"
      ],
      "metadata": {
        "colab": {
          "base_uri": "https://localhost:8080/",
          "height": 295
        },
        "id": "_CIXpV9h3ZYD",
        "outputId": "5f5c01dd-7edb-4dc3-9e30-9fa92aa10bf2"
      },
      "execution_count": 56,
      "outputs": [
        {
          "output_type": "display_data",
          "data": {
            "text/plain": [
              "<Figure size 432x288 with 1 Axes>"
            ],
            "image/png": "[encoded data removed]"
          },
          "metadata": {
            "needs_background": "light"
          }
        }
      ]
    },
    {
      "cell_type": "code",
      "source": [],
      "metadata": {
        "id": "4hnAUZlS4bKJ"
      },
      "execution_count": null,
      "outputs": []
    }
  ]
}